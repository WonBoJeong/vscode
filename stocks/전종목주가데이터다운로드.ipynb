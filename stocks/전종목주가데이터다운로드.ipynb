{
 "cells": [
  {
   "cell_type": "code",
   "execution_count": 1,
   "id": "8215c3d1",
   "metadata": {
    "scrolled": true
   },
   "outputs": [],
   "source": [
    "# 모듈 불러오기\n",
    "from selenium import webdriver\n",
    "from selenium.webdriver.support.ui import WebDriverWait\n",
    "from selenium.webdriver.support import expected_conditions as EC\n",
    "from selenium.webdriver.common.by import By\n",
    "import os"
   ]
  },
  {
   "cell_type": "code",
   "execution_count": 2,
   "id": "00fcc3da",
   "metadata": {},
   "outputs": [],
   "source": [
    "date_list = [\"20201201\", \"20201202\", \"20201203\", \"20201204\"]\n",
    "download_folder_path = r\"C:\\Users\\Gilseung\\Downloads\"\n",
    "file_path = r\"C:\\Users\\Gilseung\\Desktop\\전종목시세데이터수집\"\n",
    "before_file_list = set(os.listdir(download_folder_path))"
   ]
  },
  {
   "cell_type": "code",
   "execution_count": 3,
   "id": "8ad2fa92",
   "metadata": {},
   "outputs": [
    {
     "name": "stderr",
     "output_type": "stream",
     "text": [
      "<ipython-input-3-4a2236cc9f76>:1: DeprecationWarning: executable_path has been deprecated, please pass in a Service object\n",
      "  driver = webdriver.Chrome(\"chromedriver.exe\")\n"
     ]
    }
   ],
   "source": [
    "driver = webdriver.Chrome(\"chromedriver.exe\")"
   ]
  },
  {
   "cell_type": "code",
   "execution_count": null,
   "id": "3a7c5d9b",
   "metadata": {},
   "outputs": [],
   "source": [
    "url = \"http://data.krx.co.kr/contents/MDC/MDI/mdiLoader/index.cmd?menuId=MDC0201020101\"\n",
    "driver.get(url)\n",
    "WebDriverWait(driver, 10000).until(EC.invisibility_of_element_located((By.CLASS_NAME, 'loading-bar-overlay')))"
   ]
  },
  {
   "cell_type": "code",
   "execution_count": null,
   "id": "134ca262",
   "metadata": {},
   "outputs": [],
   "source": [
    "date_element = driver.find_element(By.ID, \"trdDd\")\n",
    "search_button = driver.find_element(By.ID, \"jsSearchButton\")"
   ]
  },
  {
   "cell_type": "code",
   "execution_count": 4,
   "id": "ba84da6e",
   "metadata": {},
   "outputs": [
    {
     "name": "stdout",
     "output_type": "stream",
     "text": [
      "20201201\n",
      "20201202\n",
      "20201203\n",
      "20201204\n"
     ]
    }
   ],
   "source": [
    "for date in date_list:\n",
    "    print(date)\n",
    "    date_element.click()\n",
    "    driver.execute_script(\"arguments[0].value = '{}'\".format(date), date_element)\n",
    "    search_button.click()\n",
    "    download_button = WebDriverWait(driver, 30).until(lambda x: x.find_element(By.CLASS_NAME, \"CI-MDI-UNIT-DOWNLOAD\"))\n",
    "    download_button.click()\n",
    "    csv_button = WebDriverWait(driver, 100).until(lambda x: x.find_element(By.XPATH, '/html/body/div[2]/section[2]/section/section/div/div/form/div[2]/div[2]/div[2]/div/div[2]/a'))\n",
    "    csv_button.click()\n",
    "    \n",
    "    # 다운로드될 때까지 기다리기 (= 폴더 내 파일 개수가 일치하지 않을 때까지 기다리기)\n",
    "    while True:\n",
    "        if len(before_file_list) != len(os.listdir(download_folder_path)):\n",
    "            new_file = (set(os.listdir(download_folder_path)) - before_file_list).pop()\n",
    "            if '.csv' in new_file:\n",
    "                break\n",
    "            \n",
    "    os.rename(download_folder_path + \"/\" + new_file, file_path + \"/\" + date + \".csv\")\n",
    "    before_file_list = set(os.listdir(download_folder_path))"
   ]
  }
 ],
 "metadata": {
  "kernelspec": {
   "display_name": "Python 3",
   "language": "python",
   "name": "python3"
  },
  "language_info": {
   "codemirror_mode": {
    "name": "ipython",
    "version": 3
   },
   "file_extension": ".py",
   "mimetype": "text/x-python",
   "name": "python",
   "nbconvert_exporter": "python",
   "pygments_lexer": "ipython3",
   "version": "3.8.8"
  }
 },
 "nbformat": 4,
 "nbformat_minor": 5
}
