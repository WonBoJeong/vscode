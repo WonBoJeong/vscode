{
 "cells": [
  {
   "cell_type": "code",
   "execution_count": 3,
   "id": "8a6005c1",
   "metadata": {},
   "outputs": [
    {
     "name": "stdout",
     "output_type": "stream",
     "text": [
      "hellow world\n",
      "7 x 1 = 7\n",
      "7 x 2 = 14\n",
      "7 x 3 = 21\n",
      "7 x 4 = 28\n",
      "7 x 5 = 35\n",
      "7 x 6 = 42\n",
      "7 x 7 = 49\n",
      "7 x 8 = 56\n",
      "7 x 9 = 63\n"
     ]
    }
   ],
   "source": [
    "print(\"hellow world\")\n",
    "# 7단 구구단 출력\n",
    "for i in range(1, 10):\n",
    "    print(f\"7 x {i} = {7 * i}\")"
   ]
  },
  {
   "cell_type": "code",
   "execution_count": null,
   "id": "66fd0436",
   "metadata": {},
   "outputs": [],
   "source": [
    "\n",
    "# 8단 구구단 출력\n",
    "for i in range(1, 10):\n",
    "    print(f\"8 x {i} = {8 * i}\")"
   ]
  },
  {
   "cell_type": "code",
   "execution_count": null,
   "id": "4e36e2cb",
   "metadata": {},
   "outputs": [],
   "source": [
    "# Sum of numbers from 1 to 10\n",
    "total = sum(range(1, 11))\n",
    "print(f\"The sum of numbers from 1 to 10 is: {total}\")\n",
    "print(total)\n"
   ]
  },
  {
   "cell_type": "code",
   "execution_count": null,
   "id": "10110bae",
   "metadata": {},
   "outputs": [],
   "source": []
  }
 ],
 "metadata": {
  "kernelspec": {
   "display_name": "Python 3",
   "language": "python",
   "name": "python3"
  },
  "language_info": {
   "codemirror_mode": {
    "name": "ipython",
    "version": 3
   },
   "file_extension": ".py",
   "mimetype": "text/x-python",
   "name": "python",
   "nbconvert_exporter": "python",
   "pygments_lexer": "ipython3",
   "version": "3.13.2"
  }
 },
 "nbformat": 4,
 "nbformat_minor": 5
}
