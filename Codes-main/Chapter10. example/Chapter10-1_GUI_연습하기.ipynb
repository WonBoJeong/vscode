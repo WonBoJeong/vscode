{
 "cells": [
  {
   "cell_type": "code",
   "execution_count": 3,
   "metadata": {},
   "outputs": [],
   "source": [
    "import tkinter as tk #import\n",
    "\n",
    "\n",
    "# 입력 값을 저장하고 출력하는 함수\n",
    "def save_input_value():\n",
    "    input_value = entry.get() # entry 위젯의 값을 가져와 변수에 저장\n",
    "    try: #숫자인 경우에만 integer type으로 변경하여 라벨에 출력\n",
    "        input_value = int(input_value) #숫자인 경우 integer로 변환\n",
    "        output_label.config(text=input_value) # 출력 라벨의 텍스트를 입력값으로 변경\n",
    "    except ValueError: #숫자가 아니면 에러메시지 출력\n",
    "        output_label.config(text=\"입력 형태가 숫자가 아닙니다.\") # 출력 라벨의 텍스트를 입력값으로 변경\n",
    "    \n",
    "\n",
    "# tkinter 윈도우 생성\n",
    "root = tk.Tk()\n",
    "# 윈도우 크기 지정\n",
    "root.geometry(\"300x100\")\n",
    "# 윈도우 타이틀 지정\n",
    "root.title(\"Main Window\")\n",
    "\n",
    "# 라벨 위젯 생성 및 텍스트 설정\n",
    "entry_label = tk.Label(root, text=\"숫자 입력:\")\n",
    "# 라벨을 화면에 표시하고 간격 설정\n",
    "entry_label.pack(side=\"top\", padx=5, pady=5)\n",
    "\n",
    "# 출력용 라벨 위젯 생성\n",
    "output_label = tk.Label(root, text=\"[출력공간]\")\n",
    "# 출력용 라벨을 화면에 표시\n",
    "output_label.pack(side=\"bottom\")\n",
    "\n",
    "\n",
    "# entry 위젯 생성\n",
    "entry = tk.Entry(root)\n",
    "# entry 위젯을 화면에 표시\n",
    "entry.pack()\n",
    "\n",
    "\n",
    "# 버튼 위젯 생성 및 텍스트 설정, 클릭시 실행 함수 지정\n",
    "submit_button = tk.Button(root, text=\"Save\", command=save_input_value)\n",
    "# 버튼을 화면에 표시하고 간격 설정\n",
    "submit_button.pack(pady=5)\n",
    "\n",
    "\n",
    "# 이벤트 루프 실행\n",
    "root.mainloop()\n",
    "\n",
    "\n"
   ]
  },
  {
   "cell_type": "code",
   "execution_count": 4,
   "metadata": {},
   "outputs": [
    {
     "name": "stdout",
     "output_type": "stream",
     "text": [
      "파일 선택이 취소되었습니다.\n"
     ]
    }
   ],
   "source": [
    "import tkinter as tk\n",
    "from tkinter import filedialog #tkinter filedialog module\n",
    "\n",
    "\n",
    "root = tk.Tk() #tkinter main widnow \n",
    "root.withdraw() #tkinter window 숨김\n",
    "\n",
    "file_path = filedialog.askopenfilename() #file dialog창 열기\n",
    "\n",
    "if file_path: #선택 된 path값에 따라 조건문 실행\n",
    "    print(\"선택한 파일 경로:\", file_path)\n",
    "else: #취소 버튼을 눌렀을 경우\n",
    "    print(\"파일 선택이 취소되었습니다.\")"
   ]
  },
  {
   "cell_type": "code",
   "execution_count": null,
   "metadata": {},
   "outputs": [],
   "source": []
  }
 ],
 "metadata": {
  "kernelspec": {
   "display_name": "base",
   "language": "python",
   "name": "python3"
  },
  "language_info": {
   "codemirror_mode": {
    "name": "ipython",
    "version": 3
   },
   "file_extension": ".py",
   "mimetype": "text/x-python",
   "name": "python",
   "nbconvert_exporter": "python",
   "pygments_lexer": "ipython3",
   "version": "3.7.4"
  },
  "orig_nbformat": 4
 },
 "nbformat": 4,
 "nbformat_minor": 2
}
