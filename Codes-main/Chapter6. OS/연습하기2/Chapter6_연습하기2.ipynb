{
 "cells": [
  {
   "cell_type": "code",
   "execution_count": 11,
   "metadata": {},
   "outputs": [
    {
     "name": "stdout",
     "output_type": "stream",
     "text": [
      "현재 경로 : c:\\Users\\Yongbeom Jeong\\Desktop\\VS CODE\\Project\\사장님몰래하는파이썬업무자동화\\OS\\이름 동시 변경하기\n",
      "현재 경로에 있는 폴더 출력 : ['Excel', '폴더1', '폴더2', '폴더3', '폴더4']\n",
      "c:\\Users\\Yongbeom Jeong\\Desktop\\VS CODE\\Project\\사장님몰래하는파이썬업무자동화\\OS\\이름 동시 변경하기\\폴더2\\엑셀_1.xlsx\n",
      "c:\\Users\\Yongbeom Jeong\\Desktop\\VS CODE\\Project\\사장님몰래하는파이썬업무자동화\\OS\\이름 동시 변경하기\\폴더2\\엑셀_2.xlsx\n",
      "c:\\Users\\Yongbeom Jeong\\Desktop\\VS CODE\\Project\\사장님몰래하는파이썬업무자동화\\OS\\이름 동시 변경하기\\폴더2\\엑셀_3.xlsx\n",
      "Excel 폴더 생성 후 현재 경로 폴더 출력 : ['Excel', '폴더1', '폴더2', '폴더3', '폴더4']\n"
     ]
    }
   ],
   "source": [
    "#Chapter6. 연습하기2 : 특정 확장자(.xlsx) 파일만 이동하기\n",
    "import os\n",
    "import shutil\n",
    "import glob\n",
    "\n",
    "#step1. 작업 경로로 이동\n",
    "try:\n",
    "    path = \"./OS/이름 동시 변경하기\"\n",
    "    os.chdir(path)\n",
    "except:\n",
    "    pass\n",
    "current_path = os.getcwd()\n",
    "print(\"현재 경로 : {}\".format(current_path))\n",
    "print(\"현재 경로에 있는 폴더 출력 : {}\".format(os.listdir()))\n",
    "\n",
    "#step2. xlsx 파일만 경로 저장 및 출력해보기\n",
    "xlsx_path = glob.glob(current_path+'/**/*.xlsx', recursive=True)\n",
    "for one_path in xlsx_path:\n",
    "    print(one_path)\n",
    "    \n",
    "#step3. 현재 current_path 기준 새로운 폴더 'Excel' 생성\n",
    "if 'Excel' not in os.listdir(current_path): #Excel이라는 폴더명이 현재 경로에 없다면\n",
    "    os.makedirs(\"Excel\")\n",
    "else: pass #있으면 별도 코드 없이 조건문 종료\n",
    "print(\"Excel 폴더 생성 후 현재 경로 폴더 출력 : {}\".format(os.listdir()))\n",
    "\n",
    "#step4. 'Excel' 폴더로 엑셀 파일 이동\n",
    "for one_path in xlsx_path:\n",
    "    shutil.move(one_path, './Excel/')"
   ]
  },
  {
   "cell_type": "code",
   "execution_count": null,
   "metadata": {},
   "outputs": [],
   "source": []
  }
 ],
 "metadata": {
  "kernelspec": {
   "display_name": "Python 3",
   "language": "python",
   "name": "python3"
  },
  "language_info": {
   "codemirror_mode": {
    "name": "ipython",
    "version": 3
   },
   "file_extension": ".py",
   "mimetype": "text/x-python",
   "name": "python",
   "nbconvert_exporter": "python",
   "pygments_lexer": "ipython3",
   "version": "3.8.2"
  },
  "orig_nbformat": 4,
  "vscode": {
   "interpreter": {
    "hash": "570feb405e2e27c949193ac68f46852414290d515b0ba6e5d90d076ed2284471"
   }
  }
 },
 "nbformat": 4,
 "nbformat_minor": 2
}
