{
 "cells": [
  {
   "cell_type": "code",
   "execution_count": 15,
   "metadata": {},
   "outputs": [
    {
     "name": "stdout",
     "output_type": "stream",
     "text": [
      "현재 경로 : c:\\Users\\Yongbeom Jeong\\Desktop\\VS CODE\\Project\\사장님몰래하는파이썬업무자동화\\OS\\이름 동시 변경하기\n"
     ]
    }
   ],
   "source": [
    "#Chapter6. 연습하기1 : 여러 폴더의 파일 이름 동시에 변경하기\n",
    "import os\n",
    "\n",
    "#step1. 작업 경로로 이동\n",
    "try:\n",
    "    path = \"./OS/이름 동시 변경하기\"\n",
    "    os.chdir(path)\n",
    "except:\n",
    "    pass\n",
    "current_path = os.getcwd()\n",
    "print(\"현재 경로 : {}\".format(current_path))\n",
    "\n",
    "#step2. 하위 폴더 및 파일의 이름 수정하기\n",
    "for folder_path, folder_list, file_list in os.walk(current_path):\n",
    "    \n",
    "    #파일명을 다시 반복문 통해 접근하기\n",
    "    for file in file_list:\n",
    "        #Step2-1.문자열 split 함수 통해 파일명(숫자),확장자 정보 분리\n",
    "        format = file.split('.')[1] #split 함수 사용하여 확장자 저장\n",
    "        file_number = file.split('.')[0] #split 함수 사용하여 파일 이름(숫자) 저장\n",
    "        \n",
    "        #Step2-2. 확장자별 형식에 따라 한글 이름 저장\n",
    "        if format == 'txt': format_name = '텍스트'\n",
    "        elif format == 'xlsx': format_name = '엑셀'\n",
    "        elif format == 'pptx': format_name = \"PPT\"\n",
    "        elif format == \"docs\": format_name = '워드'\n",
    "        \n",
    "        #Step2-3. 새로운 파일명 저장\n",
    "        new_fname = \"{}_{}.{}\".format(format_name, file_number, format) # ex) 1 -> 텍스트_1.txt\n",
    "        \n",
    "        #Step2-4. rename 함수 사용을 위한 경로 설정 및 함수 사용\n",
    "        file_path1 = folder_path+'/'+file # 각 파일의 절대경로(원본)\n",
    "        file_path2 = folder_path+'/'+new_fname # 변경 시킬 파일명(경로 포함)\n",
    "        os.rename(file_path1, file_path2)\n"
   ]
  }
 ],
 "metadata": {
  "kernelspec": {
   "display_name": "Python 3",
   "language": "python",
   "name": "python3"
  },
  "language_info": {
   "codemirror_mode": {
    "name": "ipython",
    "version": 3
   },
   "file_extension": ".py",
   "mimetype": "text/x-python",
   "name": "python",
   "nbconvert_exporter": "python",
   "pygments_lexer": "ipython3",
   "version": "3.8.2"
  },
  "orig_nbformat": 4,
  "vscode": {
   "interpreter": {
    "hash": "570feb405e2e27c949193ac68f46852414290d515b0ba6e5d90d076ed2284471"
   }
  }
 },
 "nbformat": 4,
 "nbformat_minor": 2
}
