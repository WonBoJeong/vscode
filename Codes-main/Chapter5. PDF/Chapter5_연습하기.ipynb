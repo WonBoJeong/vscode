{
 "cells": [
  {
   "cell_type": "code",
   "execution_count": 7,
   "metadata": {},
   "outputs": [],
   "source": [
    "# 5.2 PDF 페이지 추출하기\n",
    "import PyPDF2 as pdf\n",
    "path = r\"C:\\Users\\Yongbeom Jeong\\Desktop\\VS CODE\\Project\\사장님몰래하는파이썬업무자동화\\최종 전달 코드\\Chapter5\\Chatper5_pdf_sample.pdf\"\n",
    "load_pdf = pdf.PdfReader(path) #load_padf라는 변수로 위 pdf_practcie.pdf 파일을 객체를 생성\n",
    "new_pdf = pdf.PdfWriter() #새로운 pdf 파일 객체 생성\n",
    "new_pdf.add_page(load_pdf.pages[1])  #2페이지(파이썬 인덱스 0부터)\n",
    "new_pdf.add_page(load_pdf.pages[3])  #4페이지(파이썬 인덱스 0부터)\n",
    "fh = open(\"./결과1.pdf\", \"wb\") #같은 경로에 결과1.pdf 파일 객체 생성\n",
    "new_pdf.write(fh) #저장\n",
    "fh.close() #파일 닫기"
   ]
  },
  {
   "cell_type": "code",
   "execution_count": 12,
   "metadata": {},
   "outputs": [
    {
     "name": "stdout",
     "output_type": "stream",
     "text": [
      "pdf_pratcie.pdf 파일의 페이지수는 총 5입니다.\n"
     ]
    }
   ],
   "source": [
    "#5.3 PDF 페이지 분할하기\n",
    "# 5.2 PDF 페이지 추출하기\n",
    "import PyPDF2 as pdf\n",
    "path = r\"C:\\Users\\Yongbeom Jeong\\Desktop\\VS CODE\\Project\\사장님몰래하는파이썬업무자동화\\최종 전달 코드\\Chapter5\\Chatper5_pdf_sample.pdf\"\n",
    "load_pdf = pdf.PdfReader(path, \"rb\") #load_padf라는 변수로 위 pdf_practcie.pdf 파일을 객체를 생성\n",
    "\n",
    "pdf_num = len(load_pdf.pages) #기존 pdf 파일 페이지수 저장\n",
    "print(\"pdf_pratcie.pdf 파일의 페이지수는 총 {}입니다.\".format(pdf_num))\n",
    "\n",
    "for num in range(pdf_num): #각 페이지를 0번 인덱스부터 접근\n",
    "    new_pdf = pdf.PdfWriter() # 새로 만들 pdf 객체 생성(각 루프마다 새로 생성)\n",
    "    one_page = load_pdf.pages[num] # 기존 파일에서 1page 가져오기\n",
    "    new_pdf.add_page(one_page) # 새로운 pdf 객체에 1page 입력\n",
    "    fh = open(\"./{} page.pdf\".format(num+1), \"wb\")\n",
    "    new_pdf.write(fh) #각 페이지명으로 pdf 파일 저장\n",
    "fh.close() #객체 닫기"
   ]
  },
  {
   "cell_type": "code",
   "execution_count": 18,
   "metadata": {},
   "outputs": [],
   "source": [
    "#5.3 PDF 페이지 회전하기\n",
    "import PyPDF2 as pdf\n",
    "\n",
    "path = r\"C:\\Users\\Yongbeom Jeong\\Desktop\\VS CODE\\Project\\사장님몰래하는파이썬업무자동화\\pdf 연습\\Chatper5_pdf_sample.pdf\"\n",
    "\n",
    "load_pdf = pdf.PdfFileReader(path, \"rb\") #기존 pdf 파일 불러오기\n",
    "\n",
    "new_pdf = pdf.PdfFileWriter() # 새로 만들 pdf 객체 생성\n",
    "\n",
    "page_num = load_pdf.numPages\n",
    "\n",
    "for n in range(page_num): #load_pdf의 페이지수만큼 반복한다.\n",
    "    \n",
    "    one_page = load_pdf.getPage(n) #각 페이지 객체를 변수 지정\n",
    "    \n",
    "    one_page.rotateClockwise(90) #90도 시계방향 회전시키기(반시계는 270 입력)\n",
    "    \n",
    "    new_pdf.addPage(one_page) #새로운 pdf 객체에 수정한 페이지 추가\n",
    "\n",
    "fh = open(\"./Result/rotate_page.pdf\", \"wb\")\n",
    "\n",
    "new_pdf.write(fh) #최종 파일 저장\n",
    "\n",
    "fh.close() #객체 닫기\n",
    "    \n",
    "    \n"
   ]
  },
  {
   "cell_type": "code",
   "execution_count": 2,
   "metadata": {},
   "outputs": [],
   "source": [
    "#5.4 페이지 병합하기\n",
    "import PyPDF2 as pdf\n",
    "\n",
    "path = r\"C:\\Users\\Yongbeom Jeong\\Desktop\\VS CODE\\Project\\사장님몰래하는파이썬업무자동화\\Result\" \n",
    "\n",
    "file1 = open(path+\"/1 page.pdf\", \"rb\") # pdf 1page 파일 불러오기\n",
    "file2 = open(path+\"/2 page.pdf\", \"rb\") # pdf 2page 파일 불러오기\n",
    "\n",
    "load_pdf1 = pdf.PdfFileReader(file1) # 기존 pdf 파일 객체 설정\n",
    "load_pdf2 = pdf.PdfFileReader(file2) # 기존 pdf 파일 객체 설정\n",
    "\n",
    "new_pdf = pdf.PdfFileMerger() # pdf 파일을 합치기 위한 객체 설정\n",
    "\n",
    "new_pdf.append(load_pdf1) #첫번째 파일 추가\n",
    "new_pdf.append(load_pdf2) #두번째 파일 추가\n",
    "\n",
    "new_pdf.write(\"./Result/Merge_result2.pdf\") #저장"
   ]
  }
 ],
 "metadata": {
  "kernelspec": {
   "display_name": "Python 3.8.2 64-bit",
   "language": "python",
   "name": "python3"
  },
  "language_info": {
   "codemirror_mode": {
    "name": "ipython",
    "version": 3
   },
   "file_extension": ".py",
   "mimetype": "text/x-python",
   "name": "python",
   "nbconvert_exporter": "python",
   "pygments_lexer": "ipython3",
   "version": "3.11.2"
  },
  "orig_nbformat": 4,
  "vscode": {
   "interpreter": {
    "hash": "570feb405e2e27c949193ac68f46852414290d515b0ba6e5d90d076ed2284471"
   }
  }
 },
 "nbformat": 4,
 "nbformat_minor": 2
}
