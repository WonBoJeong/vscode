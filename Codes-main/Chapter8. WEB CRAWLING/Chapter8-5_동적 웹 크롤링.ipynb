{
 "cells": [
  {
   "cell_type": "code",
   "execution_count": null,
   "metadata": {},
   "outputs": [],
   "source": [
    "from selenium import webdriver #셀레니움 웹드라이버 제어 모듈\n",
    "from selenium.webdriver.common.by import By  #HTML 인덱싱을 위한 클래스\n",
    "import time #시간 지연을 위한 모듈\n",
    "\n",
    "#크롬 드라이버 실행\n",
    "driver = webdriver.Chrome()\n",
    "\n",
    "#크롬 드라이버에 url 입력 및 페이지 이동\n",
    "driver.get('https://news.naver.com/')\n",
    "time.sleep(2)\n"
   ]
  },
  {
   "cell_type": "code",
   "execution_count": null,
   "metadata": {},
   "outputs": [],
   "source": [
    "#돋보기 버튼 인덱싱\n",
    "btn_search = driver.find_element(By.CLASS_NAME, 'Ntool_button._search_content_toggle_btn')\n",
    "\n",
    "#인덱싱한 요소 클릭\n",
    "btn_search.click()"
   ]
  },
  {
   "cell_type": "code",
   "execution_count": null,
   "metadata": {},
   "outputs": [],
   "source": [
    "#검색어 입력창 인덱싱\n",
    "box_search = driver.find_element(By.CSS_SELECTOR, 'input.u_it._search_input')\n",
    "\n",
    "#검색어 입력\n",
    "box_search.send_keys('파이썬')"
   ]
  },
  {
   "cell_type": "code",
   "execution_count": null,
   "metadata": {},
   "outputs": [],
   "source": [
    "from selenium.webdriver.common.keys import Keys\n",
    "\n",
    "# 엔터키 입력\n",
    "box_search.send_keys(Keys.ENTER)    "
   ]
  },
  {
   "cell_type": "code",
   "execution_count": null,
   "metadata": {},
   "outputs": [],
   "source": [
    "tab_1st = driver.window_handles[0]\n",
    "tab_2nd = driver.window_handles[1]\n",
    "\n",
    "print(\"현재 탭 (switch 전): \", driver.current_window_handle)\n",
    "\n",
    "# 두번째 탭으로 창 변경\n",
    "driver.switch_to.window(tab_2nd)\n",
    "\n",
    "print(\"현재 탭 (switch 후): \", driver.current_window_handle)"
   ]
  },
  {
   "cell_type": "code",
   "execution_count": null,
   "metadata": {},
   "outputs": [],
   "source": [
    "# 뉴스 제목 추출\n",
    "news_titles = driver.find_elements(By.CLASS_NAME, 'news_tit')\n",
    "\n",
    "for i in news_titles:\n",
    "    title = i.text\n",
    "    print(title)"
   ]
  },
  {
   "cell_type": "code",
   "execution_count": null,
   "metadata": {},
   "outputs": [],
   "source": [
    "# 뉴스 하이퍼링크 추출\n",
    "\n",
    "for i in news_titles:\n",
    "    href = i.get_attribute('href')\n",
    "    print(href)"
   ]
  },
  {
   "cell_type": "code",
   "execution_count": null,
   "metadata": {},
   "outputs": [],
   "source": [
    "# 스크롤 내리기 (모든 썸네일 이미지 로딩을 위함)\n",
    "driver.execute_script(\"window.scrollTo(0, document.body.scrollHeight);\")\n",
    "time.sleep(2)\n",
    "\n",
    "#뉴스 썸네일 이미지 다운로드\n",
    "news_content_div = driver.find_elements(By.CLASS_NAME, 'news_contents')\n",
    "\n",
    "news_thumbnail = []\n",
    "\n",
    "for i in news_content_div:\n",
    "    try:\n",
    "        thumbnail = i.find_element(By.CLASS_NAME, \"thumb\")\n",
    "        news_thumbnail.append(thumbnail)\n",
    "    except:\n",
    "        pass\n",
    "\n",
    "link_thumbnail = [img.get_attribute('src') for img in news_thumbnail]\n",
    "\n",
    "\n",
    "# 이미지 저장할 폴더 생성\n",
    "import os\n",
    "\n",
    "# path_folder의 경로는 각자 저장할 폴더의 경로를 적어줄 것\n",
    "path_folder = r'/Users/sangwoo/Desktop/img_download/'\n",
    "\n",
    "if not os.path.isdir(path_folder):\n",
    "    os.mkdir(path_folder)\n",
    "\n",
    "# 이미지 다운로드\n",
    "from urllib.request import urlretrieve\n",
    "\n",
    "i = 0\n",
    "\n",
    "for link in link_thumbnail:          \n",
    "    i += 1\n",
    "    urlretrieve(link, path_folder + f'{i}.jpg')\n",
    "    time.sleep(0.3)\n"
   ]
  },
  {
   "cell_type": "code",
   "execution_count": null,
   "metadata": {},
   "outputs": [],
   "source": []
  }
 ],
 "metadata": {
  "kernelspec": {
   "display_name": "Python 3",
   "language": "python",
   "name": "python3"
  },
  "language_info": {
   "codemirror_mode": {
    "name": "ipython",
    "version": 3
   },
   "file_extension": ".py",
   "mimetype": "text/x-python",
   "name": "python",
   "nbconvert_exporter": "python",
   "pygments_lexer": "ipython3",
   "version": "3.11.2"
  },
  "orig_nbformat": 4
 },
 "nbformat": 4,
 "nbformat_minor": 2
}
