{
 "cells": [
  {
   "cell_type": "code",
   "execution_count": null,
   "metadata": {},
   "outputs": [],
   "source": [
    "# requests 패키지 가져오기\n",
    "import requests\n",
    "\n",
    "# 입력받은 키워드가 포함된 url 주소\n",
    "url = 'https://search.naver.com/search.naver?where=news&sm=tab_jum&query=월드컵'\n",
    "\n",
    "# requests의 get함수를 이용해 해당 url로 부터 html이 담긴 자료를 받아옴\n",
    "response = requests.get(url)\n",
    "\n",
    "# 얻고자 하는 html 문서가 여기에 담기게 됨\n",
    "html_text = response.text"
   ]
  },
  {
   "cell_type": "code",
   "execution_count": null,
   "metadata": {},
   "outputs": [],
   "source": [
    "# BeautifulSoup 패키지 불러오기\n",
    "from bs4 import BeautifulSoup as bs\n",
    "\n",
    "# html을 잘 정리된 형태로 변환\n",
    "html = bs(html_text, 'html.parser')"
   ]
  },
  {
   "cell_type": "code",
   "execution_count": null,
   "metadata": {},
   "outputs": [],
   "source": [
    "# 뉴스 제목 텍스트 추출\n",
    "    \n",
    "news_titles = html.select(\"a.news_tit\")\n",
    "\n",
    "for i in news_titles:\n",
    "    title = i.get_text()\n",
    "    print(title)"
   ]
  },
  {
   "cell_type": "code",
   "execution_count": null,
   "metadata": {},
   "outputs": [],
   "source": [
    "# 뉴스 하이퍼링크 추출\n",
    "\n",
    "for i in news_titles:\n",
    "    href = i.attrs['href']\n",
    "    print(href)"
   ]
  },
  {
   "cell_type": "code",
   "execution_count": null,
   "metadata": {},
   "outputs": [],
   "source": [
    "# 뉴스 썸네일 이미지 추출\n",
    "news_content_div = html.select(\".news_contents\")\n",
    "news_thumbnail = [thumbnail.select_one(\".thumb\") for thumbnail in news_content_div]\n",
    "link_thumbnail = []\n",
    "\n",
    "for img in news_thumbnail:\n",
    "    if img is not None and 'data-lazysrc' in img.attrs:\n",
    "        link_thumbnail.append(img.attrs['data-lazysrc'])\n",
    "\n",
    "import os\n",
    "\n",
    "# path_folder의 경로는 각자 저장할 폴더의 경로를 적어줄 것\n",
    "path_folder = r'C:\\Users\\sangwoo\\Desktop\\img_download'\n",
    "\n",
    "# 이미지 저장할 폴더 생성\n",
    "if not os.path.isdir(path_folder):\n",
    "    os.mkdir(path_folder)\n",
    "\n",
    "# 이미지 다운로드\n",
    "from urllib.request import urlretrieve\n",
    "i = 0\n",
    "for link in link_thumbnail:          \n",
    "    i += 1\n",
    "    urlretrieve(link, path_folder + f'\\{i}.jpg')\n"
   ]
  }
 ],
 "metadata": {
  "kernelspec": {
   "display_name": "Python 3",
   "language": "python",
   "name": "python3"
  },
  "language_info": {
   "codemirror_mode": {
    "name": "ipython",
    "version": 3
   },
   "file_extension": ".py",
   "mimetype": "text/x-python",
   "name": "python",
   "nbconvert_exporter": "python",
   "pygments_lexer": "ipython3",
   "version": "3.11.2"
  },
  "orig_nbformat": 4
 },
 "nbformat": 4,
 "nbformat_minor": 2
}
