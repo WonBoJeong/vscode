{
 "cells": [
  {
   "cell_type": "code",
   "execution_count": 31,
   "metadata": {},
   "outputs": [
    {
     "name": "stdout",
     "output_type": "stream",
     "text": [
      "객체 출력 :  Outlook\n",
      "타입 출력 :  <class 'win32com.client.CDispatch'>\n",
      "<COMObject CreateItem>\n"
     ]
    }
   ],
   "source": [
    "#Code1 : 메일 보내기\n",
    "#Step1,2. import 및 Outlook 객체 생성하기\n",
    "\n",
    "import win32com.client\n",
    "outlook = win32com.client.Dispatch(\"Outlook.Application\")\n",
    "print(\"객체 출력 : \", outlook)\n",
    "print(\"타입 출력 : \", type(outlook))\n",
    "\n",
    "#Step3. 메일 보내기 창 생성\n",
    "send_mail = outlook.CreateItem(0)\n",
    "print(send_mail)\n",
    "\n",
    "#Step4. 메일 보내기 정보 입력\n",
    "send_mail.To =  \"jeong_sajang@example.com\" #메일 수신인\n",
    "send_mail.CC =  \"jeong_sajang@example.com\" #메일 참조\n",
    "send_mail.Subject = \"파이썬 통해 Outlook 자동화 해보기\" #메일 제목\n",
    "send_mail.HTMLBody = \"이 것은 내용\" #내용\n",
    "\n",
    "#Step5. 메일 보내기 \n",
    "send_mail.Send()\n"
   ]
  },
  {
   "cell_type": "code",
   "execution_count": null,
   "metadata": {},
   "outputs": [],
   "source": [
    "#Code2 : 메일 수신하기\n",
    "\n",
    "#Step1\n",
    "import win32com.client\n",
    "outlook=win32com.client.Dispatch(\"Outlook.Application\").GetNamespace(\"MAPI\")\n",
    "\n",
    "#Step2. 편지함 및 메시지 리스트 받아오기\n",
    "\n",
    "#받은 편지함 설정\n",
    "inboxfolder = outlook.GetDefaultFolder(6) \n",
    "\n",
    "#받은 편지함의 messgae 받아오기(모든 메시지)\n",
    "messages = inboxfolder.Items\n",
    "\n",
    "i=1 #여러 메일 출력을 위한 인덱싱\n",
    "#각 메일에 대한 정보를 for 반복문을 통해 출력\n",
    "for  mail  in  messages:\n",
    "    print(str(i) + \"번째 메일의 발신인 : \" + mail.SenderName)\n",
    "    print(str(i) + \"번째 메일의 수신인 : \" + mail.To)\n",
    "    print(str(i) + \"번째 메일의 제목 : \" + mail.Subject)\n",
    "    print(str(i) + \"번째 메일의 받은시간 : \" + str(mail.ReceivedTime))\n",
    "    print(str(i) + \"번째 메일의 내부내용 : \" + mail.Body)\n",
    "    print('\\n')\n",
    "    i = i+1\n"
   ]
  },
  {
   "cell_type": "code",
   "execution_count": 5,
   "metadata": {},
   "outputs": [
    {
     "name": "stdout",
     "output_type": "stream",
     "text": [
      "1번째 메일 첨부파일 개수 : 0개\n",
      "2번째 메일 첨부파일 개수 : 0개\n"
     ]
    }
   ],
   "source": [
    "#Code3 :첨부파일 다운받기\n",
    "\n",
    "#Step1. import 및 outlook app 설정\n",
    "import win32com.client\n",
    "outlook=win32com.client.Dispatch(\"Outlook.Application\").GetNamespace(\"MAPI\")\n",
    "\n",
    "#Step2. 편지함 및 메시지 리스트 받아오기\n",
    "\n",
    "#받은 편지함 설정\n",
    "inboxfolder = outlook.GetDefaultFolder(6) \n",
    "\n",
    "#받은 편지함의 messgae 받아오기(모든 메시지)\n",
    "messages = inboxfolder.Items\n",
    "\n",
    "no = 1 #중복 파일명이 있을 것을 대비해 추가한 파일명 인덱스\n",
    "m_count = 1 #메일 카운트\n",
    "#각 메일마다 첨부파일을 다운로드 하는 루프\n",
    "for ms in messages:\n",
    "\n",
    "    attachments = ms.Attachments #해당 메일의 첨부파일 객체 설정\n",
    "    r = attachments.count #해당 메일의 첨부파일 개수(integer)\n",
    "    print(\"{}번째 메일 첨부파일 개수 : {}개\".format(m_count, r))\n",
    "    m_count=m_count+1 #메일 카운트 증가\n",
    "    #해당 메일의 첨부파일을 모두 저장\n",
    "    for i in range(1, r + 1):\n",
    "        attachment = attachments.Item(i)\n",
    "        attachment.SaveASFile(\"{}_{}\".format(no, attachment))  # 파일명 설정no, \n",
    "        no = no + 1 #인덱스 증가"
   ]
  },
  {
   "cell_type": "code",
   "execution_count": null,
   "metadata": {},
   "outputs": [],
   "source": []
  }
 ],
 "metadata": {
  "kernelspec": {
   "display_name": "Python 3",
   "language": "python",
   "name": "python3"
  },
  "language_info": {
   "codemirror_mode": {
    "name": "ipython",
    "version": 3
   },
   "file_extension": ".py",
   "mimetype": "text/x-python",
   "name": "python",
   "nbconvert_exporter": "python",
   "pygments_lexer": "ipython3",
   "version": "3.11.2"
  },
  "orig_nbformat": 4,
  "vscode": {
   "interpreter": {
    "hash": "570feb405e2e27c949193ac68f46852414290d515b0ba6e5d90d076ed2284471"
   }
  }
 },
 "nbformat": 4,
 "nbformat_minor": 2
}
